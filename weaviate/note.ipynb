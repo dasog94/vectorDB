{
 "cells": [
  {
   "metadata": {
    "ExecuteTime": {
     "end_time": "2025-03-27T15:33:13.064319Z",
     "start_time": "2025-03-27T15:33:11.398576Z"
    }
   },
   "cell_type": "code",
   "source": [
    "!pip install weaviate-client\n",
    "!pip install datasets"
   ],
   "id": "aecef0f75f8da340",
   "outputs": [
    {
     "name": "stderr",
     "output_type": "stream",
     "text": [
      "/Users/jb/miniconda3/lib/python3.12/pty.py:95: DeprecationWarning: This process (pid=5875) is multi-threaded, use of forkpty() may lead to deadlocks in the child.\n",
      "  pid, fd = os.forkpty()\n"
     ]
    },
    {
     "name": "stdout",
     "output_type": "stream",
     "text": [
      "Requirement already satisfied: weaviate-client in /Users/jb/miniconda3/lib/python3.12/site-packages (4.11.3)\r\n",
      "Requirement already satisfied: httpx<0.29.0,>=0.26.0 in /Users/jb/miniconda3/lib/python3.12/site-packages (from weaviate-client) (0.28.1)\r\n",
      "Requirement already satisfied: validators==0.34.0 in /Users/jb/miniconda3/lib/python3.12/site-packages (from weaviate-client) (0.34.0)\r\n",
      "Requirement already satisfied: authlib<1.3.2,>=1.2.1 in /Users/jb/miniconda3/lib/python3.12/site-packages (from weaviate-client) (1.3.1)\r\n",
      "Requirement already satisfied: pydantic<3.0.0,>=2.8.0 in /Users/jb/miniconda3/lib/python3.12/site-packages (from weaviate-client) (2.10.6)\r\n",
      "Requirement already satisfied: grpcio<2.0.0,>=1.66.2 in /Users/jb/miniconda3/lib/python3.12/site-packages (from weaviate-client) (1.71.0)\r\n",
      "Requirement already satisfied: grpcio-tools<2.0.0,>=1.66.2 in /Users/jb/miniconda3/lib/python3.12/site-packages (from weaviate-client) (1.71.0)\r\n",
      "Requirement already satisfied: grpcio-health-checking<2.0.0,>=1.66.2 in /Users/jb/miniconda3/lib/python3.12/site-packages (from weaviate-client) (1.71.0)\r\n",
      "Requirement already satisfied: cryptography in /Users/jb/miniconda3/lib/python3.12/site-packages (from authlib<1.3.2,>=1.2.1->weaviate-client) (42.0.5)\r\n",
      "Requirement already satisfied: protobuf<6.0dev,>=5.26.1 in /Users/jb/miniconda3/lib/python3.12/site-packages (from grpcio-health-checking<2.0.0,>=1.66.2->weaviate-client) (5.29.4)\r\n",
      "Requirement already satisfied: setuptools in /Users/jb/miniconda3/lib/python3.12/site-packages (from grpcio-tools<2.0.0,>=1.66.2->weaviate-client) (72.1.0)\r\n",
      "Requirement already satisfied: anyio in /Users/jb/miniconda3/lib/python3.12/site-packages (from httpx<0.29.0,>=0.26.0->weaviate-client) (4.9.0)\r\n",
      "Requirement already satisfied: certifi in /Users/jb/miniconda3/lib/python3.12/site-packages (from httpx<0.29.0,>=0.26.0->weaviate-client) (2024.7.4)\r\n",
      "Requirement already satisfied: httpcore==1.* in /Users/jb/miniconda3/lib/python3.12/site-packages (from httpx<0.29.0,>=0.26.0->weaviate-client) (1.0.7)\r\n",
      "Requirement already satisfied: idna in /Users/jb/miniconda3/lib/python3.12/site-packages (from httpx<0.29.0,>=0.26.0->weaviate-client) (3.7)\r\n",
      "Requirement already satisfied: h11<0.15,>=0.13 in /Users/jb/miniconda3/lib/python3.12/site-packages (from httpcore==1.*->httpx<0.29.0,>=0.26.0->weaviate-client) (0.14.0)\r\n",
      "Requirement already satisfied: annotated-types>=0.6.0 in /Users/jb/miniconda3/lib/python3.12/site-packages (from pydantic<3.0.0,>=2.8.0->weaviate-client) (0.7.0)\r\n",
      "Requirement already satisfied: pydantic-core==2.27.2 in /Users/jb/miniconda3/lib/python3.12/site-packages (from pydantic<3.0.0,>=2.8.0->weaviate-client) (2.27.2)\r\n",
      "Requirement already satisfied: typing-extensions>=4.12.2 in /Users/jb/miniconda3/lib/python3.12/site-packages (from pydantic<3.0.0,>=2.8.0->weaviate-client) (4.12.2)\r\n",
      "Requirement already satisfied: sniffio>=1.1 in /Users/jb/miniconda3/lib/python3.12/site-packages (from anyio->httpx<0.29.0,>=0.26.0->weaviate-client) (1.3.1)\r\n",
      "Requirement already satisfied: cffi>=1.12 in /Users/jb/miniconda3/lib/python3.12/site-packages (from cryptography->authlib<1.3.2,>=1.2.1->weaviate-client) (1.16.0)\r\n",
      "Requirement already satisfied: pycparser in /Users/jb/miniconda3/lib/python3.12/site-packages (from cffi>=1.12->cryptography->authlib<1.3.2,>=1.2.1->weaviate-client) (2.21)\r\n"
     ]
    }
   ],
   "execution_count": 3
  },
  {
   "metadata": {
    "ExecuteTime": {
     "end_time": "2025-03-30T09:14:43.242427Z",
     "start_time": "2025-03-30T09:14:43.236735Z"
    }
   },
   "cell_type": "code",
   "source": [
    "# declare name of the collection\n",
    "COLLECTION_NAME = \"QuestionAnswering\"\n",
    "QUERY_SENTENCE = \"사이보그가 뭐야?\"\n",
    "NUM_OF_DATA = 200\n",
    "WEIGHT_OF_VECTOR_IN_HYBRID = 0.5"
   ],
   "id": "1882cafd749947b3",
   "outputs": [],
   "execution_count": 43
  },
  {
   "metadata": {
    "collapsed": true,
    "ExecuteTime": {
     "end_time": "2025-03-30T09:14:47.802239Z",
     "start_time": "2025-03-30T09:14:44.129930Z"
    }
   },
   "cell_type": "code",
   "source": [
    "import pandas as pd\n",
    "from datasets import load_dataset\n",
    "\n",
    "DATA_SET    = \"beomi/KoAlpaca-v1.1a\"\n",
    "DATA_FILE   = \"./data/KoAlpaca-train.csv\"\n",
    "\n",
    "load_data = load_dataset(DATA_SET, split=\"train\")\n",
    "load_data.to_csv(DATA_FILE)\n",
    "csv_data = pd.read_csv(DATA_FILE)\n",
    "csv_data.head(5)\n",
    "data_to_insert = csv_data.head(min(NUM_OF_DATA, len(load_data)))"
   ],
   "id": "initial_id",
   "outputs": [
    {
     "data": {
      "text/plain": [
       "Creating CSV from Arrow format:   0%|          | 0/22 [00:00<?, ?ba/s]"
      ],
      "application/vnd.jupyter.widget-view+json": {
       "version_major": 2,
       "version_minor": 0,
       "model_id": "b264a35218c64013a56a9b6479f1787f"
      }
     },
     "metadata": {},
     "output_type": "display_data"
    }
   ],
   "execution_count": 46
  },
  {
   "metadata": {
    "ExecuteTime": {
     "end_time": "2025-03-30T09:14:42.849134Z",
     "start_time": "2025-03-30T09:14:42.518032Z"
    }
   },
   "cell_type": "code",
   "outputs": [],
   "execution_count": 42,
   "source": [
    "import weaviate\n",
    "\n",
    "client = weaviate.connect_to_local(host='localhost', port=8080)"
   ],
   "id": "6aa9839648b39977"
  },
  {
   "metadata": {
    "ExecuteTime": {
     "end_time": "2025-03-30T09:14:44.034079Z",
     "start_time": "2025-03-30T09:14:43.625774Z"
    }
   },
   "cell_type": "code",
   "source": [
    "from weaviate.collections.classes.config import Tokenization\n",
    "import weaviate.classes.config as wc\n",
    "\n",
    "# Drop the collection\n",
    "client.collections.delete(name=COLLECTION_NAME)\n",
    "\n",
    "client.collections.create(\n",
    "    name=COLLECTION_NAME,\n",
    "    description=COLLECTION_NAME,\n",
    "    properties=[\n",
    "        wc.Property(\n",
    "            name=\"instruction\",\n",
    "            data_type=wc.DataType.TEXT,\n",
    "            tokenization=Tokenization.KAGOME_KR\n",
    "        ),\n",
    "        wc.Property(\n",
    "            name=\"output\",\n",
    "            data_type=wc.DataType.TEXT,\n",
    "            tokenization=Tokenization.KAGOME_KR\n",
    "        ),\n",
    "        wc.Property(\n",
    "            name=\"url\",\n",
    "            data_type=wc.DataType.TEXT,\n",
    "            skip_vectorization=True),\n",
    "    ],\n",
    "    vectorizer_config=wc.Configure.Vectorizer.text2vec_transformers(),\n",
    ")"
   ],
   "id": "2aa35390796c47f8",
   "outputs": [
    {
     "data": {
      "text/plain": [
       "<weaviate.collections.collection.sync.Collection at 0x126756ab0>"
      ]
     },
     "execution_count": 44,
     "metadata": {},
     "output_type": "execute_result"
    }
   ],
   "execution_count": 44
  },
  {
   "metadata": {
    "ExecuteTime": {
     "end_time": "2025-03-30T09:16:02.641795Z",
     "start_time": "2025-03-30T09:15:15.606424Z"
    }
   },
   "cell_type": "code",
   "source": [
    "from weaviate.collections.classes.filters import Filter\n",
    "\n",
    "target_collection = client.collections.get(COLLECTION_NAME)\n",
    "\n",
    "# Fetch the first 200 rows from csv_data\n",
    "data_to_insert = csv_data.head(min(NUM_OF_DATA, len(csv_data)))\n",
    "\n",
    "with target_collection.batch.dynamic() as batch:\n",
    "    for _, row in data_to_insert.iterrows():\n",
    "        # 중복 확인\n",
    "        response = target_collection.query.fetch_objects(\n",
    "            filters=Filter.by_property(\"instruction\").equal(row[\"instruction\"]),\n",
    "            limit=1\n",
    "        )\n",
    "        # object가 있으면 건너뛰기\n",
    "        if response.objects:\n",
    "            continue\n",
    "\n",
    "        batch.add_object(\n",
    "            properties={\n",
    "                \"instruction\": row[\"instruction\"],\n",
    "                \"output\": row[\"output\"],\n",
    "                \"url\": row[\"url\"],\n",
    "            },\n",
    "        )\n"
   ],
   "id": "37e3d26c974aeeef",
   "outputs": [],
   "execution_count": 47
  },
  {
   "metadata": {
    "ExecuteTime": {
     "end_time": "2025-03-30T09:21:49.914753Z",
     "start_time": "2025-03-30T09:21:49.609269Z"
    }
   },
   "cell_type": "code",
   "source": [
    "from weaviate.classes.query import MetadataQuery\n",
    "\n",
    "target_collection = client.collections.get(COLLECTION_NAME)\n",
    "\n",
    "response = target_collection.query.near_text(\n",
    "    query=QUERY_SENTENCE,\n",
    "    limit=3,\n",
    "    return_metadata=MetadataQuery(distance=True)\n",
    ")\n",
    "\n",
    "for o in response.objects:\n",
    "    print(o.properties)\n",
    "    print(o.metadata.distance)"
   ],
   "id": "8fe0de9a10a03f3f",
   "outputs": [
    {
     "name": "stdout",
     "output_type": "stream",
     "text": [
      "{'instruction': '\"데요\"와 \"대요\"의 차이점은 무엇인가요? \"이상한데?\"나 \"아닌데?\" 같은 경우도 포함되나요? 뉴스를 보고 나서 \"내일 비 온다\"라면 \"내일 비 온대\"와 \"내일 비 온데\"라는 표현의 차이점은 무엇인가요? \"어째 이상하데?\" 같은 경우에는 어떤 상황에서 사용되나요?', 'url': 'https://kin.naver.com/qna/detail.naver?d1id=11&dirId=11080103&docId=275232662', 'output': '\"-대\"를 \"-다고 해\"를 줄인 것이라는 것을 이해하는 것이 중요합니다. \"-다고 해\"와 \"-대\"는 어떤 것을 표현할 때 사용하는 것이기 때문에, \"-대\"는 자신이 본 것을 말할 때, \"-다\"는 타인의 언급을 전달할 때 주로 사용됩니다. 따라서 \"어째 이상하데?\"와 같이 직접적인 언급을 할 때도 \"-데\"를 사용합니다. \\n\\n그리고 \"이상한데?\"나 \"아닌데?\"와 같은 경우, \"이상하다\"나 \"아니다\"와 같은 형용사가 바로 앞에 나와 있기 때문에 \"-ㄴ데\"라는 어미를 사용합니다. 또한 뉴스를 보고 \"내일 비 온다\"와 같이 언급한 경우, 이는 기상캐스터나 뉴스에서 발표한 내용을 전달하는 것이기 때문에 \"-대\"를 사용합니다. \\n\\n예를 들어 \"뉴스에서 내일 비 온대. 우산 챙기세요.\"라면, 누군가가 내일 비가 올 것이라고 전하는 것이기 때문에 \"-대\"를 사용하며, \"내일 비 온데. 우산 챙기세요.\"라면, 직접 기상 관측을 한 것이 아니고, 뉴스를 보고 비가 올 것이라는 것을 추측한 것이기 때문에 \"-데\"를 사용합니다. \\n\\n마지막으로 \"어째 이상하데?\" 같은 경우에는, \\'어째\\', \\'어쩌다\\', \\'왜\\'와 같은 의문어와 같이 이상한 상황이나 모순되는 상황을 표현할 때 사용합니다. \\n\\n따라서, \"-ㄴ데\"는 형용사나 형태소 앞에서, \"-대\"는 타인이 언급한 것을 전달하거나 추측할 때, \"-데\"는 직접 관찰한 것이 아닌 추측이나 전해 들은 것을 전달할 때, \"어째 이상하데?\"와 같은 경우는 이상한 상황을 표현할 때 사용됩니다.'}\n",
      "0.35923171043395996\n",
      "{'instruction': \"'천추의 한'이 무슨 뜻인가요? 궁금합니다.\", 'url': 'https://kin.naver.com/qna/detail.naver?d1id=11&dirId=11080102&docId=46686890', 'output': \"'천추의 한'은 '오랜 시간, 먼 미래'를 뜻하는 '천추'와 '한' 즉, '한(한강)을 품고 살아가다 말하지 못한 아쉬움'을 뜻하는 '한'이 결합된 단어입니다. 한(한강)을 풀지 못하고 죽는 사람이 주로 내뱉는 말 중에 “그 놈을 죽이지 못한 것이 천추의 한이다.” 이런 대사가 많은데, 여기서 천추는 죽을 때까지, 평생 동안 자신을 괴롭혀 왔던 한(한강을 풀지 못한 한)이기에 뼈에 사무친다는 의미로 사용되는 것입니다. '천추의 한'은 오랜 시간 동안 쌓이고, 해결하지 못한 아쉬움이라는 뜻으로 사용됩니다.\"}\n",
      "0.38612818717956543\n",
      "{'instruction': \"'친구따라 강남 간다'의 유래는 무엇인가요?\", 'url': 'https://kin.naver.com/qna/detail.naver?d1id=11&dirId=11080102&docId=46928375', 'output': \"'친구따라 강남 간다'는 한국에서 친구나 누군가와 함께 멀고 낯선 곳에 덩달아 따라가는 모습을 비유한 말입니다. 이 말은 '강남'이 양자강을 뜻하는 단어라는 점에서 비롯됐습니다. '강남'은 옛날 조선사람들이 남쪽의 아주 먼 곳을 뜻하는 말로 사용했습니다. 그리고 '제비가 강남간다'는 속담에서처럼, 제비가 멀리 따뜻한 남쪽으로 날아가는 모습을 '강남간다'라고 했습니다. 이 때문에 '친구따라 강남 간다'는 말이 만들어졌습니다.\"}\n",
      "0.43596982955932617\n"
     ]
    }
   ],
   "execution_count": 48
  },
  {
   "metadata": {
    "ExecuteTime": {
     "end_time": "2025-03-30T09:22:22.895450Z",
     "start_time": "2025-03-30T09:22:22.816719Z"
    }
   },
   "cell_type": "code",
   "source": [
    "target_collection = client.collections.get(COLLECTION_NAME)\n",
    "\n",
    "response = target_collection.query.bm25(\n",
    "    query=QUERY_SENTENCE,\n",
    "    return_metadata=MetadataQuery(score=True),\n",
    "    limit=3\n",
    ")\n",
    "\n",
    "for o in response.objects:\n",
    "    print(o.properties)\n",
    "    print(o.metadata.score)"
   ],
   "id": "4a5a5efcfaf4b5ac",
   "outputs": [
    {
     "name": "stdout",
     "output_type": "stream",
     "text": [
      "{'instruction': \"'사이보그'는 언제 처음 등장한 말이며, 그 의미와 종류에는 어떤 것이 있는지 알고 싶습니다.\", 'url': 'https://kin.naver.com/qna/detail.naver?d1id=11&dirId=110801&docId=53501505', 'output': \"'사이보그'는 1960년에 처음 등장한 말로, 기계와 유기체가 합성되어 생겨난 새로운 개념을 나타냅니다. 주로 공상과학영화에서 등장하며, 1985년 페미니스트인 도나 해러웨이가 발표한 '사이보그를 위한 선언문'으로 인해 사이보그는 성차별 사회를 극복하는 사회정치적 상징으로 더욱 주목받게 되었습니다. 사이보그는 생물체와 기술적 개입이 결합된 다양한 종류가 있으며, 이제는 인공장기를 받은 사람, 예방접종을 받은 사람, 또는 사람과 기계가 결합된 베리칩과 같은 기술적 개입을 받은 사람들까지 우리 주변에서 만날 수 있습니다. \\n\\n또한, 지구 위치 파악 기능이나 신체 건강 상태를 감지하는 센서 등을 추가적으로 부착하면서 사이보그의 구조와 기능이 더욱 다양해지고 있습니다. 이러한 발전은 사이보그의 대중화를 가속화시키고 있으나, 범죄나 인권 침해 등의 문제가 발생할 가능성도 존재합니다.\"}\n",
      "3.397840738296509\n",
      "{'instruction': '야구 글러브의 종류와 포지션별 특징은 무엇인가요?', 'url': 'https://kin.naver.com/qna/detail.naver?d1id=10&dirId=100102&docId=282734372', 'output': '보통 4칸으로 그물처럼 되어있는 것이 내야글러브이며, 1루를 제외한 내야 전 포지션에서 사용 가능합니다. 그물처럼 촘촘히 되어있는 것이 외야글러브이며, 우익수, 중견수, 좌익수에서 사용 가능합니다. 투수 글러브는 그립이 보이지 않도록 막혀 있습니다. 포수와 1루수는 글러브가 아닌 미트를 사용합니다.'}\n",
      "2.775923490524292\n",
      "{'output': '엑스레이 사진은 전자를 물체에 쏘아 물질을 투과한 후 나머지 전자들로 현상되는 원리를 이용해 사진을 찍습니다. 하지만 금속물은 밀도가 크기 때문에 거의 뚫고 나오는 전자가 없어 엑스레이 사진에서 하얗게 나타나게 됩니다. 따라서 이물질을 제거하지 않으면 해당 부위를 진단하기 어렵습니다. 또한 치아와 주변 조직, 합병증 등을 알아보기 위해 필요한 부분까지 가리면 사진의 진단에 희색음영을 불러일으키는 경우가 있습니다. 그러므로 금속물을 제거해 정확한 진단을 받을 수 있도록 해야 합니다.', 'url': 'https://kin.naver.com/qna/detail.naver?d1id=7&dirId=708&docId=22098501', 'instruction': '엑스레이 사진을 찍을때 왜 귀걸이나 목걸이를 빼야 하는 건가요?\\n치과나 병원에서 엑스레이 사진을 찍을때 귀걸이와 목걸이 등 금속물을 반드시 벗겨야 하는 이유가 궁금해요.'}\n",
      "2.3894827365875244\n"
     ]
    }
   ],
   "execution_count": 49
  },
  {
   "metadata": {
    "ExecuteTime": {
     "end_time": "2025-03-30T08:42:16.940153Z",
     "start_time": "2025-03-30T08:42:16.676912Z"
    }
   },
   "cell_type": "code",
   "source": [
    "target_collection = client.collections.get(COLLECTION_NAME)\n",
    "\n",
    "response = target_collection.query.hybrid(\n",
    "    query=QUERY_SENTENCE,\n",
    "    alpha=WEIGHT_OF_VECTOR_IN_HYBRID,\n",
    "    return_metadata=MetadataQuery(score=True, explain_score=True),\n",
    "    limit=3,\n",
    ")\n",
    "\n",
    "for o in response.objects:\n",
    "    print(o.properties)\n",
    "    print(o.metadata.score, o.metadata.explain_score)"
   ],
   "id": "e7b38f1e86aeb612",
   "outputs": [
    {
     "name": "stdout",
     "output_type": "stream",
     "text": [
      "{'input': \"격조사 '가'가 붙는 경우 '네가'를 사용해야 합니다. '니'는 표준어가 아닌 언어 사용이며 격조사 '가'가 붙는 경우에 '네가' 대신 '니가'를 사용하는 것은 옳지 않습니다. 따라서 제시된 질문 '니가랑 네가중에 뭐가 맞는 말인가요?'는 '네가랑 네가중에 뭐가 맞는 말인가요?'로 수정해야합니다. \\n 또한, '너'는 '네'로 바뀌며 '니'라는 표준어가 아닌 사용은 지양하는 것이 바람직합니다.\", 'instruction': \"'니가랑 네가중에 뭐가 맞는 말인가요?' 라는 질문의 올바른 표현은 무엇인가요? 그리고 그 이유는 무엇인가요?\", 'url': 'https://kin.naver.com/qna/detail.naver?d1id=11&dirId=11080103&docId=387957459'}\n",
      "0.5256288051605225 \n",
      "Hybrid (Result Set keyword,bm25) Document 5a4b97f7-5958-474b-96f7-7d34b585f309: original score 2.976395, normalized score: 0.23197371 - \n",
      "Hybrid (Result Set vector,hybridVector) Document 5a4b97f7-5958-474b-96f7-7d34b585f309: original score 0.6007407, normalized score: 0.29365513\n",
      "{'input': \"'사이보그'는 1960년에 처음 등장한 말로, 기계와 유기체가 합성되어 생겨난 새로운 개념을 나타냅니다. 주로 공상과학영화에서 등장하며, 1985년 페미니스트인 도나 해러웨이가 발표한 '사이보그를 위한 선언문'으로 인해 사이보그는 성차별 사회를 극복하는 사회정치적 상징으로 더욱 주목받게 되었습니다. 사이보그는 생물체와 기술적 개입이 결합된 다양한 종류가 있으며, 이제는 인공장기를 받은 사람, 예방접종을 받은 사람, 또는 사람과 기계가 결합된 베리칩과 같은 기술적 개입을 받은 사람들까지 우리 주변에서 만날 수 있습니다. \\n\\n또한, 지구 위치 파악 기능이나 신체 건강 상태를 감지하는 센서 등을 추가적으로 부착하면서 사이보그의 구조와 기능이 더욱 다양해지고 있습니다. 이러한 발전은 사이보그의 대중화를 가속화시키고 있으나, 범죄나 인권 침해 등의 문제가 발생할 가능성도 존재합니다.\", 'instruction': \"'사이보그'는 언제 처음 등장한 말이며, 그 의미와 종류에는 어떤 것이 있는지 알고 싶습니다.\", 'url': 'https://kin.naver.com/qna/detail.naver?d1id=11&dirId=110801&docId=53501505'}\n",
      "0.5 \n",
      "Hybrid (Result Set keyword,bm25) Document e565e2ef-b7ec-4e21-ae3b-85a281ff04ad: original score 5.0134745, normalized score: 0.5\n",
      "{'input': \"'바봐 봐봐'와 '-안 돼!', '-안 되지요.', '-안 돼요.'는 각각 다른 의미를 가지며 쓰임에 따라 다르지만, 모두 올바르게 사용된 표현입니다.\\n\\n'바봐 봐봐'는 '보다'의 명령형이 두 번 반복된 형태이므로 '보아 보아 > 봐 봐'가 맞습니다. 이 표현은 상대방에게 어떤 행동을 하도록 명령하거나, 어떤 것을 보도록 유도할 때 사용합니다.\\n\\n'-안 돼!', '-안 되지요.', '-안 돼요.'는 모두 '되다'의 부정형으로, 행동을 하지 말아야 할 때나, 그것이 불가능한 상황에서 사용됩니다. '-안 되지요.', '-안 돼요.'는 높임말을 사용하고 싶을 때 사용하는 표현이며, '-안 돼!'는 일반적인 표현입니다.\\n\\n참고로 '되-'에 '-어요'를 붙여서 확인해 보면, '-안 돼요.'가 올바른 표현임을 알 수 있습니다.\", 'instruction': \"'바봐 봐봐'와 '-안 돼!', '-안 되지요.', '-안 돼요.'는 각각 어떤 의미를 가지는 건가요? 또한, 쓸 때마다 용도가 다른 것인가요?\", 'url': 'https://kin.naver.com/qna/detail.naver?d1id=11&dirId=11080103&docId=157160036'}\n",
      "0.5 \n",
      "Hybrid (Result Set vector,hybridVector) Document 3fe0ddcd-0ce5-41b6-b0c2-7ec9175c1ef1: original score 0.67253244, normalized score: 0.5\n"
     ]
    }
   ],
   "execution_count": 37
  }
 ],
 "metadata": {
  "kernelspec": {
   "display_name": "Python 3",
   "language": "python",
   "name": "python3"
  },
  "language_info": {
   "codemirror_mode": {
    "name": "ipython",
    "version": 2
   },
   "file_extension": ".py",
   "mimetype": "text/x-python",
   "name": "python",
   "nbconvert_exporter": "python",
   "pygments_lexer": "ipython2",
   "version": "2.7.6"
  }
 },
 "nbformat": 4,
 "nbformat_minor": 5
}

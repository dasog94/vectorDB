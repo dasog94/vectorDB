{
 "cells": [
  {
   "metadata": {
    "ExecuteTime": {
     "end_time": "2025-03-27T15:33:13.064319Z",
     "start_time": "2025-03-27T15:33:11.398576Z"
    }
   },
   "cell_type": "code",
   "source": [
    "!pip install weaviate-client\n",
    "!pip install datasets"
   ],
   "id": "aecef0f75f8da340",
   "outputs": [
    {
     "name": "stderr",
     "output_type": "stream",
     "text": [
      "/Users/jb/miniconda3/lib/python3.12/pty.py:95: DeprecationWarning: This process (pid=5875) is multi-threaded, use of forkpty() may lead to deadlocks in the child.\n",
      "  pid, fd = os.forkpty()\n"
     ]
    },
    {
     "name": "stdout",
     "output_type": "stream",
     "text": [
      "Requirement already satisfied: weaviate-client in /Users/jb/miniconda3/lib/python3.12/site-packages (4.11.3)\r\n",
      "Requirement already satisfied: httpx<0.29.0,>=0.26.0 in /Users/jb/miniconda3/lib/python3.12/site-packages (from weaviate-client) (0.28.1)\r\n",
      "Requirement already satisfied: validators==0.34.0 in /Users/jb/miniconda3/lib/python3.12/site-packages (from weaviate-client) (0.34.0)\r\n",
      "Requirement already satisfied: authlib<1.3.2,>=1.2.1 in /Users/jb/miniconda3/lib/python3.12/site-packages (from weaviate-client) (1.3.1)\r\n",
      "Requirement already satisfied: pydantic<3.0.0,>=2.8.0 in /Users/jb/miniconda3/lib/python3.12/site-packages (from weaviate-client) (2.10.6)\r\n",
      "Requirement already satisfied: grpcio<2.0.0,>=1.66.2 in /Users/jb/miniconda3/lib/python3.12/site-packages (from weaviate-client) (1.71.0)\r\n",
      "Requirement already satisfied: grpcio-tools<2.0.0,>=1.66.2 in /Users/jb/miniconda3/lib/python3.12/site-packages (from weaviate-client) (1.71.0)\r\n",
      "Requirement already satisfied: grpcio-health-checking<2.0.0,>=1.66.2 in /Users/jb/miniconda3/lib/python3.12/site-packages (from weaviate-client) (1.71.0)\r\n",
      "Requirement already satisfied: cryptography in /Users/jb/miniconda3/lib/python3.12/site-packages (from authlib<1.3.2,>=1.2.1->weaviate-client) (42.0.5)\r\n",
      "Requirement already satisfied: protobuf<6.0dev,>=5.26.1 in /Users/jb/miniconda3/lib/python3.12/site-packages (from grpcio-health-checking<2.0.0,>=1.66.2->weaviate-client) (5.29.4)\r\n",
      "Requirement already satisfied: setuptools in /Users/jb/miniconda3/lib/python3.12/site-packages (from grpcio-tools<2.0.0,>=1.66.2->weaviate-client) (72.1.0)\r\n",
      "Requirement already satisfied: anyio in /Users/jb/miniconda3/lib/python3.12/site-packages (from httpx<0.29.0,>=0.26.0->weaviate-client) (4.9.0)\r\n",
      "Requirement already satisfied: certifi in /Users/jb/miniconda3/lib/python3.12/site-packages (from httpx<0.29.0,>=0.26.0->weaviate-client) (2024.7.4)\r\n",
      "Requirement already satisfied: httpcore==1.* in /Users/jb/miniconda3/lib/python3.12/site-packages (from httpx<0.29.0,>=0.26.0->weaviate-client) (1.0.7)\r\n",
      "Requirement already satisfied: idna in /Users/jb/miniconda3/lib/python3.12/site-packages (from httpx<0.29.0,>=0.26.0->weaviate-client) (3.7)\r\n",
      "Requirement already satisfied: h11<0.15,>=0.13 in /Users/jb/miniconda3/lib/python3.12/site-packages (from httpcore==1.*->httpx<0.29.0,>=0.26.0->weaviate-client) (0.14.0)\r\n",
      "Requirement already satisfied: annotated-types>=0.6.0 in /Users/jb/miniconda3/lib/python3.12/site-packages (from pydantic<3.0.0,>=2.8.0->weaviate-client) (0.7.0)\r\n",
      "Requirement already satisfied: pydantic-core==2.27.2 in /Users/jb/miniconda3/lib/python3.12/site-packages (from pydantic<3.0.0,>=2.8.0->weaviate-client) (2.27.2)\r\n",
      "Requirement already satisfied: typing-extensions>=4.12.2 in /Users/jb/miniconda3/lib/python3.12/site-packages (from pydantic<3.0.0,>=2.8.0->weaviate-client) (4.12.2)\r\n",
      "Requirement already satisfied: sniffio>=1.1 in /Users/jb/miniconda3/lib/python3.12/site-packages (from anyio->httpx<0.29.0,>=0.26.0->weaviate-client) (1.3.1)\r\n",
      "Requirement already satisfied: cffi>=1.12 in /Users/jb/miniconda3/lib/python3.12/site-packages (from cryptography->authlib<1.3.2,>=1.2.1->weaviate-client) (1.16.0)\r\n",
      "Requirement already satisfied: pycparser in /Users/jb/miniconda3/lib/python3.12/site-packages (from cffi>=1.12->cryptography->authlib<1.3.2,>=1.2.1->weaviate-client) (2.21)\r\n"
     ]
    }
   ],
   "execution_count": 3
  },
  {
   "metadata": {
    "ExecuteTime": {
     "end_time": "2025-03-30T09:08:41.084450Z",
     "start_time": "2025-03-30T09:08:41.072770Z"
    }
   },
   "cell_type": "code",
   "source": [
    "# declare name of the collection\n",
    "COLLECTION_NAME = \"QuestionAnswering_No_Korean_Tokenizer\"\n",
    "QUERY_SENTENCE = \"사이보그가 뭐야?\"\n",
    "NUM_OF_DATA = 200\n",
    "WEIGHT_OF_VECTOR_IN_HYBRID = 0.5"
   ],
   "id": "1882cafd749947b3",
   "outputs": [],
   "execution_count": 16
  },
  {
   "metadata": {
    "collapsed": true,
    "ExecuteTime": {
     "end_time": "2025-03-30T09:24:31.877457Z",
     "start_time": "2025-03-30T09:24:22.088288Z"
    }
   },
   "cell_type": "code",
   "source": [
    "import pandas as pd\n",
    "from datasets import load_dataset\n",
    "\n",
    "DATA_SET    = \"beomi/KoAlpaca-v1.1a\"\n",
    "DATA_FILE   = \"./data/KoAlpaca-train.csv\"\n",
    "\n",
    "load_data = load_dataset(DATA_SET, split=\"train\")\n",
    "load_data.to_csv(DATA_FILE)\n",
    "csv_data = pd.read_csv(DATA_FILE)\n",
    "data_to_insert = csv_data.head(min(NUM_OF_DATA, len(load_data)))\n",
    "data_to_insert.sample(5)"
   ],
   "id": "initial_id",
   "outputs": [
    {
     "data": {
      "text/plain": [
       "Creating CSV from Arrow format:   0%|          | 0/22 [00:00<?, ?ba/s]"
      ],
      "application/vnd.jupyter.widget-view+json": {
       "version_major": 2,
       "version_minor": 0,
       "model_id": "a086712453034eb498c21941cb7a0fdb"
      }
     },
     "metadata": {},
     "output_type": "display_data"
    },
    {
     "data": {
      "text/plain": [
       "                                           instruction  \\\n",
       "70          모기는 이산화탄소를 어떻게 감지하고 어떤 고성능 센서 기능을 갖추고 있나요?   \n",
       "14                    조선시대에 성인 나이는 몇 살이었나요? 성인식도 있었나요?   \n",
       "84   중국 화폐에는 소수민족이 그려져 있는 화폐도 있는데 그 소수민족이 누구인가요? 그리...   \n",
       "108  지렁이는 알을 낳을까요? 그냥 지렁이 새끼를 그냥 낳아버릴까요? 지렁이가 왜 흙을 ...   \n",
       "105                          왜 로켓을 발사할 때 바다에서 쏘는 것일까요?   \n",
       "\n",
       "                                                output  \\\n",
       "70   암컷 모기는 냄새, 이산화탄소, 열, 시각정보 등을 통해 목표를 추적하고 흡혈을 합...   \n",
       "14   조선시대에 성인 나이는 15세였습니다. 관례라는 성인식이 있었습니다. 관례는 남성의...   \n",
       "84   중국의 지폐와 동전에는 한국의 원화와 마찬가지로 다양한 인물이 그려져 있습니다. 중...   \n",
       "108  체절(몸의 마디)이 있는 원통형의 길쭉한 몸을 가진 지렁이는 생식을 할 때는 다른 ...   \n",
       "105  바다에서 로켓을 쏘는 이유는 여러 가지가 있습니다. 첫째로, 경제적인 이유가 있습니...   \n",
       "\n",
       "                                                   url  \n",
       "70   https://kin.naver.com/qna/detail.naver?d1id=11...  \n",
       "14   https://kin.naver.com/qna/detail.naver?d1id=11...  \n",
       "84   https://kin.naver.com/qna/detail.naver?d1id=6&...  \n",
       "108  https://kin.naver.com/qna/detail.naver?d1id=13...  \n",
       "105  https://kin.naver.com/qna/detail.naver?d1id=11...  "
      ],
      "text/html": [
       "<div>\n",
       "<style scoped>\n",
       "    .dataframe tbody tr th:only-of-type {\n",
       "        vertical-align: middle;\n",
       "    }\n",
       "\n",
       "    .dataframe tbody tr th {\n",
       "        vertical-align: top;\n",
       "    }\n",
       "\n",
       "    .dataframe thead th {\n",
       "        text-align: right;\n",
       "    }\n",
       "</style>\n",
       "<table border=\"1\" class=\"dataframe\">\n",
       "  <thead>\n",
       "    <tr style=\"text-align: right;\">\n",
       "      <th></th>\n",
       "      <th>instruction</th>\n",
       "      <th>output</th>\n",
       "      <th>url</th>\n",
       "    </tr>\n",
       "  </thead>\n",
       "  <tbody>\n",
       "    <tr>\n",
       "      <th>70</th>\n",
       "      <td>모기는 이산화탄소를 어떻게 감지하고 어떤 고성능 센서 기능을 갖추고 있나요?</td>\n",
       "      <td>암컷 모기는 냄새, 이산화탄소, 열, 시각정보 등을 통해 목표를 추적하고 흡혈을 합...</td>\n",
       "      <td>https://kin.naver.com/qna/detail.naver?d1id=11...</td>\n",
       "    </tr>\n",
       "    <tr>\n",
       "      <th>14</th>\n",
       "      <td>조선시대에 성인 나이는 몇 살이었나요? 성인식도 있었나요?</td>\n",
       "      <td>조선시대에 성인 나이는 15세였습니다. 관례라는 성인식이 있었습니다. 관례는 남성의...</td>\n",
       "      <td>https://kin.naver.com/qna/detail.naver?d1id=11...</td>\n",
       "    </tr>\n",
       "    <tr>\n",
       "      <th>84</th>\n",
       "      <td>중국 화폐에는 소수민족이 그려져 있는 화폐도 있는데 그 소수민족이 누구인가요? 그리...</td>\n",
       "      <td>중국의 지폐와 동전에는 한국의 원화와 마찬가지로 다양한 인물이 그려져 있습니다. 중...</td>\n",
       "      <td>https://kin.naver.com/qna/detail.naver?d1id=6&amp;...</td>\n",
       "    </tr>\n",
       "    <tr>\n",
       "      <th>108</th>\n",
       "      <td>지렁이는 알을 낳을까요? 그냥 지렁이 새끼를 그냥 낳아버릴까요? 지렁이가 왜 흙을 ...</td>\n",
       "      <td>체절(몸의 마디)이 있는 원통형의 길쭉한 몸을 가진 지렁이는 생식을 할 때는 다른 ...</td>\n",
       "      <td>https://kin.naver.com/qna/detail.naver?d1id=13...</td>\n",
       "    </tr>\n",
       "    <tr>\n",
       "      <th>105</th>\n",
       "      <td>왜 로켓을 발사할 때 바다에서 쏘는 것일까요?</td>\n",
       "      <td>바다에서 로켓을 쏘는 이유는 여러 가지가 있습니다. 첫째로, 경제적인 이유가 있습니...</td>\n",
       "      <td>https://kin.naver.com/qna/detail.naver?d1id=11...</td>\n",
       "    </tr>\n",
       "  </tbody>\n",
       "</table>\n",
       "</div>"
      ]
     },
     "execution_count": 26,
     "metadata": {},
     "output_type": "execute_result"
    }
   ],
   "execution_count": 26
  },
  {
   "metadata": {
    "ExecuteTime": {
     "end_time": "2025-03-30T09:24:34.593219Z",
     "start_time": "2025-03-30T09:24:34.375694Z"
    }
   },
   "cell_type": "code",
   "source": [
    "import weaviate\n",
    "\n",
    "client = weaviate.connect_to_local(host='localhost', port=8080)"
   ],
   "id": "6aa9839648b39977",
   "outputs": [
    {
     "name": "stderr",
     "output_type": "stream",
     "text": [
      "/Users/jb/miniconda3/lib/python3.12/site-packages/weaviate/warnings.py:314: ResourceWarning: Con004: The connection to Weaviate was not closed properly. This can lead to memory leaks.\n",
      "            Please make sure to close the connection using `client.close()`.\n",
      "  warnings.warn(\n"
     ]
    }
   ],
   "execution_count": 27
  },
  {
   "metadata": {
    "ExecuteTime": {
     "end_time": "2025-03-30T09:24:50.121551Z",
     "start_time": "2025-03-30T09:24:49.667330Z"
    }
   },
   "cell_type": "code",
   "source": [
    "import weaviate.classes.config as wc\n",
    "\n",
    "# Drop the collection\n",
    "client.collections.delete(name=COLLECTION_NAME)\n",
    "\n",
    "client.collections.create(\n",
    "    name=COLLECTION_NAME,\n",
    "    description=COLLECTION_NAME,\n",
    "    properties=[\n",
    "        wc.Property(\n",
    "            name=\"instruction\",\n",
    "            data_type=wc.DataType.TEXT,\n",
    "            # tokenization=Tokenization.KAGOME_KR\n",
    "        ),\n",
    "        wc.Property(\n",
    "            name=\"output\",\n",
    "            data_type=wc.DataType.TEXT,\n",
    "            # tokenization=Tokenization.KAGOME_KR\n",
    "        ),\n",
    "        wc.Property(\n",
    "            name=\"url\",\n",
    "            data_type=wc.DataType.TEXT,\n",
    "            skip_vectorization=True),\n",
    "    ],\n",
    "    vectorizer_config=wc.Configure.Vectorizer.text2vec_transformers(),\n",
    ")"
   ],
   "id": "2aa35390796c47f8",
   "outputs": [
    {
     "data": {
      "text/plain": [
       "<weaviate.collections.collection.sync.Collection at 0x1202b81a0>"
      ]
     },
     "execution_count": 28,
     "metadata": {},
     "output_type": "execute_result"
    }
   ],
   "execution_count": 28
  },
  {
   "metadata": {
    "ExecuteTime": {
     "end_time": "2025-03-30T09:25:44.249775Z",
     "start_time": "2025-03-30T09:24:52.807403Z"
    }
   },
   "cell_type": "code",
   "source": [
    "from weaviate.collections.classes.filters import Filter\n",
    "\n",
    "target_collection = client.collections.get(COLLECTION_NAME)\n",
    "\n",
    "# Fetch the first 200 rows from csv_data\n",
    "data_to_insert = csv_data.head(min(NUM_OF_DATA, len(csv_data)))\n",
    "\n",
    "with target_collection.batch.dynamic() as batch:\n",
    "    for _, row in data_to_insert.iterrows():\n",
    "        # 중복 확인\n",
    "        response = target_collection.query.fetch_objects(\n",
    "            filters=Filter.by_property(\"instruction\").equal(row[\"instruction\"]),\n",
    "            limit=1\n",
    "        )\n",
    "        # object가 있으면 건너뛰기\n",
    "        if response.objects:\n",
    "            continue\n",
    "\n",
    "        batch.add_object(\n",
    "            properties={\n",
    "                \"instruction\": row[\"instruction\"],\n",
    "                \"output\": row[\"output\"],\n",
    "                \"url\": row[\"url\"],\n",
    "            },\n",
    "        )\n"
   ],
   "id": "37e3d26c974aeeef",
   "outputs": [],
   "execution_count": 29
  },
  {
   "metadata": {
    "ExecuteTime": {
     "end_time": "2025-03-30T09:25:46.398128Z",
     "start_time": "2025-03-30T09:25:46.169253Z"
    }
   },
   "cell_type": "code",
   "source": [
    "from weaviate.classes.query import MetadataQuery\n",
    "\n",
    "target_collection = client.collections.get(COLLECTION_NAME)\n",
    "\n",
    "response = target_collection.query.near_text(\n",
    "    query=QUERY_SENTENCE,\n",
    "    limit=3,\n",
    "    return_metadata=MetadataQuery(distance=True)\n",
    ")\n",
    "\n",
    "for o in response.objects:\n",
    "    print(o.properties)\n",
    "    print(o.metadata.distance)"
   ],
   "id": "8fe0de9a10a03f3f",
   "outputs": [
    {
     "name": "stdout",
     "output_type": "stream",
     "text": [
      "{'instruction': \"'천추의 한'이 무슨 뜻인가요? 궁금합니다.\", 'url': 'https://kin.naver.com/qna/detail.naver?d1id=11&dirId=11080102&docId=46686890', 'output': \"'천추의 한'은 '오랜 시간, 먼 미래'를 뜻하는 '천추'와 '한' 즉, '한(한강)을 품고 살아가다 말하지 못한 아쉬움'을 뜻하는 '한'이 결합된 단어입니다. 한(한강)을 풀지 못하고 죽는 사람이 주로 내뱉는 말 중에 “그 놈을 죽이지 못한 것이 천추의 한이다.” 이런 대사가 많은데, 여기서 천추는 죽을 때까지, 평생 동안 자신을 괴롭혀 왔던 한(한강을 풀지 못한 한)이기에 뼈에 사무친다는 의미로 사용되는 것입니다. '천추의 한'은 오랜 시간 동안 쌓이고, 해결하지 못한 아쉬움이라는 뜻으로 사용됩니다.\"}\n",
      "0.3401041030883789\n",
      "{'instruction': '\"데요\"와 \"대요\"의 차이점은 무엇인가요? \"이상한데?\"나 \"아닌데?\" 같은 경우도 포함되나요? 뉴스를 보고 나서 \"내일 비 온다\"라면 \"내일 비 온대\"와 \"내일 비 온데\"라는 표현의 차이점은 무엇인가요? \"어째 이상하데?\" 같은 경우에는 어떤 상황에서 사용되나요?', 'url': 'https://kin.naver.com/qna/detail.naver?d1id=11&dirId=11080103&docId=275232662', 'output': '\"-대\"를 \"-다고 해\"를 줄인 것이라는 것을 이해하는 것이 중요합니다. \"-다고 해\"와 \"-대\"는 어떤 것을 표현할 때 사용하는 것이기 때문에, \"-대\"는 자신이 본 것을 말할 때, \"-다\"는 타인의 언급을 전달할 때 주로 사용됩니다. 따라서 \"어째 이상하데?\"와 같이 직접적인 언급을 할 때도 \"-데\"를 사용합니다. \\n\\n그리고 \"이상한데?\"나 \"아닌데?\"와 같은 경우, \"이상하다\"나 \"아니다\"와 같은 형용사가 바로 앞에 나와 있기 때문에 \"-ㄴ데\"라는 어미를 사용합니다. 또한 뉴스를 보고 \"내일 비 온다\"와 같이 언급한 경우, 이는 기상캐스터나 뉴스에서 발표한 내용을 전달하는 것이기 때문에 \"-대\"를 사용합니다. \\n\\n예를 들어 \"뉴스에서 내일 비 온대. 우산 챙기세요.\"라면, 누군가가 내일 비가 올 것이라고 전하는 것이기 때문에 \"-대\"를 사용하며, \"내일 비 온데. 우산 챙기세요.\"라면, 직접 기상 관측을 한 것이 아니고, 뉴스를 보고 비가 올 것이라는 것을 추측한 것이기 때문에 \"-데\"를 사용합니다. \\n\\n마지막으로 \"어째 이상하데?\" 같은 경우에는, \\'어째\\', \\'어쩌다\\', \\'왜\\'와 같은 의문어와 같이 이상한 상황이나 모순되는 상황을 표현할 때 사용합니다. \\n\\n따라서, \"-ㄴ데\"는 형용사나 형태소 앞에서, \"-대\"는 타인이 언급한 것을 전달하거나 추측할 때, \"-데\"는 직접 관찰한 것이 아닌 추측이나 전해 들은 것을 전달할 때, \"어째 이상하데?\"와 같은 경우는 이상한 상황을 표현할 때 사용됩니다.'}\n",
      "0.3560577630996704\n",
      "{'instruction': \"다시 합창 합시다' 처럼 거꾸로 읽어도 같은 문장이 영어에도 있나요? 또한 다른 나라의 언어에도 있는 건가요?\", 'url': 'https://kin.naver.com/qna/detail.naver?d1id=11&dirId=1108&docId=57688409', 'output': '바로 읽으나 거꾸로 읽으나 똑같은 문장을 회문(回文)이라고 하며, 영어에도 회문이 존재합니다. 대표적인 회문으로는 \"Madam, I\\'m Adam\"과 \"A man, a plan, a canal, Panama!\"가 있습니다. 일본어에는 \"またたび 浴びた タマ\"라는 회문이 있고, 회문을 모아놓은 책도 있다고 합니다. 우리말 회문으로는 \"다시 합창합시다\"와 \"소주 만 병만 주소\" 외에도 다른 회문이 있죠. 회문은 한자의 특성을 살린 표현기법으로, 작성이 어렵지만 문학적인 재미를 느낄 수 있는 분야입니다.'}\n",
      "0.4420129656791687\n"
     ]
    }
   ],
   "execution_count": 30
  },
  {
   "metadata": {
    "ExecuteTime": {
     "end_time": "2025-03-30T09:25:52.714653Z",
     "start_time": "2025-03-30T09:25:52.646616Z"
    }
   },
   "cell_type": "code",
   "source": [
    "target_collection = client.collections.get(COLLECTION_NAME)\n",
    "\n",
    "response = target_collection.query.bm25(\n",
    "    query=QUERY_SENTENCE,\n",
    "    return_metadata=MetadataQuery(score=True),\n",
    "    limit=3\n",
    ")\n",
    "\n",
    "for o in response.objects:\n",
    "    print(o.properties)\n",
    "    print(o.metadata.score)"
   ],
   "id": "4a5a5efcfaf4b5ac",
   "outputs": [],
   "execution_count": 31
  },
  {
   "metadata": {
    "ExecuteTime": {
     "end_time": "2025-03-30T09:25:55.889622Z",
     "start_time": "2025-03-30T09:25:55.704357Z"
    }
   },
   "cell_type": "code",
   "source": [
    "target_collection = client.collections.get(COLLECTION_NAME)\n",
    "\n",
    "response = target_collection.query.hybrid(\n",
    "    query=QUERY_SENTENCE,\n",
    "    alpha=WEIGHT_OF_VECTOR_IN_HYBRID,\n",
    "    return_metadata=MetadataQuery(score=True, explain_score=True),\n",
    "    limit=3,\n",
    ")\n",
    "\n",
    "for o in response.objects:\n",
    "    print(o.properties)\n",
    "    print(o.metadata.score, o.metadata.explain_score)"
   ],
   "id": "e7b38f1e86aeb612",
   "outputs": [
    {
     "name": "stdout",
     "output_type": "stream",
     "text": [
      "{'instruction': \"'천추의 한'이 무슨 뜻인가요? 궁금합니다.\", 'url': 'https://kin.naver.com/qna/detail.naver?d1id=11&dirId=11080102&docId=46686890', 'output': \"'천추의 한'은 '오랜 시간, 먼 미래'를 뜻하는 '천추'와 '한' 즉, '한(한강)을 품고 살아가다 말하지 못한 아쉬움'을 뜻하는 '한'이 결합된 단어입니다. 한(한강)을 풀지 못하고 죽는 사람이 주로 내뱉는 말 중에 “그 놈을 죽이지 못한 것이 천추의 한이다.” 이런 대사가 많은데, 여기서 천추는 죽을 때까지, 평생 동안 자신을 괴롭혀 왔던 한(한강을 풀지 못한 한)이기에 뼈에 사무친다는 의미로 사용되는 것입니다. '천추의 한'은 오랜 시간 동안 쌓이고, 해결하지 못한 아쉬움이라는 뜻으로 사용됩니다.\"}\n",
      "0.5 \n",
      "Hybrid (Result Set vector,hybridVector) Document b67defeb-688b-4523-b41a-234c30797ded: original score 0.6598959, normalized score: 0.5\n",
      "{'instruction': '\"데요\"와 \"대요\"의 차이점은 무엇인가요? \"이상한데?\"나 \"아닌데?\" 같은 경우도 포함되나요? 뉴스를 보고 나서 \"내일 비 온다\"라면 \"내일 비 온대\"와 \"내일 비 온데\"라는 표현의 차이점은 무엇인가요? \"어째 이상하데?\" 같은 경우에는 어떤 상황에서 사용되나요?', 'url': 'https://kin.naver.com/qna/detail.naver?d1id=11&dirId=11080103&docId=275232662', 'output': '\"-대\"를 \"-다고 해\"를 줄인 것이라는 것을 이해하는 것이 중요합니다. \"-다고 해\"와 \"-대\"는 어떤 것을 표현할 때 사용하는 것이기 때문에, \"-대\"는 자신이 본 것을 말할 때, \"-다\"는 타인의 언급을 전달할 때 주로 사용됩니다. 따라서 \"어째 이상하데?\"와 같이 직접적인 언급을 할 때도 \"-데\"를 사용합니다. \\n\\n그리고 \"이상한데?\"나 \"아닌데?\"와 같은 경우, \"이상하다\"나 \"아니다\"와 같은 형용사가 바로 앞에 나와 있기 때문에 \"-ㄴ데\"라는 어미를 사용합니다. 또한 뉴스를 보고 \"내일 비 온다\"와 같이 언급한 경우, 이는 기상캐스터나 뉴스에서 발표한 내용을 전달하는 것이기 때문에 \"-대\"를 사용합니다. \\n\\n예를 들어 \"뉴스에서 내일 비 온대. 우산 챙기세요.\"라면, 누군가가 내일 비가 올 것이라고 전하는 것이기 때문에 \"-대\"를 사용하며, \"내일 비 온데. 우산 챙기세요.\"라면, 직접 기상 관측을 한 것이 아니고, 뉴스를 보고 비가 올 것이라는 것을 추측한 것이기 때문에 \"-데\"를 사용합니다. \\n\\n마지막으로 \"어째 이상하데?\" 같은 경우에는, \\'어째\\', \\'어쩌다\\', \\'왜\\'와 같은 의문어와 같이 이상한 상황이나 모순되는 상황을 표현할 때 사용합니다. \\n\\n따라서, \"-ㄴ데\"는 형용사나 형태소 앞에서, \"-대\"는 타인이 언급한 것을 전달하거나 추측할 때, \"-데\"는 직접 관찰한 것이 아닌 추측이나 전해 들은 것을 전달할 때, \"어째 이상하데?\"와 같은 경우는 이상한 상황을 표현할 때 사용됩니다.'}\n",
      "0.4789658784866333 \n",
      "Hybrid (Result Set vector,hybridVector) Document c750113a-d9be-4e32-81d3-6598217b2622: original score 0.64394224, normalized score: 0.47896588\n",
      "{'instruction': \"다시 합창 합시다' 처럼 거꾸로 읽어도 같은 문장이 영어에도 있나요? 또한 다른 나라의 언어에도 있는 건가요?\", 'url': 'https://kin.naver.com/qna/detail.naver?d1id=11&dirId=1108&docId=57688409', 'output': '바로 읽으나 거꾸로 읽으나 똑같은 문장을 회문(回文)이라고 하며, 영어에도 회문이 존재합니다. 대표적인 회문으로는 \"Madam, I\\'m Adam\"과 \"A man, a plan, a canal, Panama!\"가 있습니다. 일본어에는 \"またたび 浴びた タマ\"라는 회문이 있고, 회문을 모아놓은 책도 있다고 합니다. 우리말 회문으로는 \"다시 합창합시다\"와 \"소주 만 병만 주소\" 외에도 다른 회문이 있죠. 회문은 한자의 특성을 살린 표현기법으로, 작성이 어렵지만 문학적인 재미를 느낄 수 있는 분야입니다.'}\n",
      "0.3656381070613861 \n",
      "Hybrid (Result Set vector,hybridVector) Document 1652f515-fb59-4cb2-93e7-da4009814fcc: original score 0.55798703, normalized score: 0.3656381\n"
     ]
    }
   ],
   "execution_count": 32
  }
 ],
 "metadata": {
  "kernelspec": {
   "display_name": "Python 3",
   "language": "python",
   "name": "python3"
  },
  "language_info": {
   "codemirror_mode": {
    "name": "ipython",
    "version": 2
   },
   "file_extension": ".py",
   "mimetype": "text/x-python",
   "name": "python",
   "nbconvert_exporter": "python",
   "pygments_lexer": "ipython2",
   "version": "2.7.6"
  }
 },
 "nbformat": 4,
 "nbformat_minor": 5
}
